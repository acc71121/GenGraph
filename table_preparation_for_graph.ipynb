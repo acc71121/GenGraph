{
 "cells": [
  {
   "cell_type": "code",
   "execution_count": 3,
   "metadata": {},
   "outputs": [
    {
     "ename": "ValueError",
     "evalue": "The truth value of a Series is ambiguous. Use a.empty, a.bool(), a.item(), a.any() or a.all().",
     "output_type": "error",
     "traceback": [
      "\u001b[0;31m---------------------------------------------------------------------------\u001b[0m",
      "\u001b[0;31mValueError\u001b[0m                                Traceback (most recent call last)",
      "Cell \u001b[0;32mIn[3], line 61\u001b[0m\n\u001b[1;32m     56\u001b[0m \u001b[39m#isplay(df_rtr)\u001b[39;00m\n\u001b[1;32m     57\u001b[0m \u001b[39m#df_rtr[['labels']] = df_rtr.apply(lambda row: pd.Series(get_labels(row['phon_stem_1'], row['phon_stem_2'], row['labels_1'], row['labels_2'])), axis=1)\u001b[39;00m\n\u001b[1;32m     58\u001b[0m \u001b[39m#df_rtr = df_rtr.drop(columns=['labels_1', 'labels_2'])\u001b[39;00m\n\u001b[1;32m     60\u001b[0m df_rtr \u001b[39m=\u001b[39m df_rtr\u001b[39m.\u001b[39mdrop(columns\u001b[39m=\u001b[39m[\u001b[39m'\u001b[39m\u001b[39mgeneralization2\u001b[39m\u001b[39m'\u001b[39m])\n\u001b[0;32m---> 61\u001b[0m df_rtr \u001b[39m=\u001b[39m df_rtr\u001b[39m.\u001b[39mloc((df_rtr[\u001b[39m'\u001b[39m\u001b[39mgeneralization_1\u001b[39m\u001b[39m'\u001b[39m] \u001b[39m!=\u001b[39m \u001b[39m'\u001b[39m\u001b[39mX\u001b[39m\u001b[39m'\u001b[39m) \u001b[39mand\u001b[39;00m (df_rtr[\u001b[39m'\u001b[39m\u001b[39mgeneralization_2\u001b[39m\u001b[39m'\u001b[39m] \u001b[39m!=\u001b[39m \u001b[39m'\u001b[39m\u001b[39mX\u001b[39m\u001b[39m'\u001b[39m))\n\u001b[1;32m     62\u001b[0m df_rtr \u001b[39m=\u001b[39m df_rtr\u001b[39m.\u001b[39mloc((df_rtr[\u001b[39m'\u001b[39m\u001b[39mgeneralization_1\u001b[39m\u001b[39m'\u001b[39m] \u001b[39m!=\u001b[39m \u001b[39m'\u001b[39m\u001b[39mX\u001b[39m\u001b[39m'\u001b[39m) \u001b[39mand\u001b[39;00m (df_rtr[\u001b[39m'\u001b[39m\u001b[39mgeneralization_2\u001b[39m\u001b[39m'\u001b[39m] \u001b[39m!=\u001b[39m \u001b[39m'\u001b[39m\u001b[39mY\u001b[39m\u001b[39m'\u001b[39m))\n\u001b[1;32m     63\u001b[0m df_rtr\u001b[39m.\u001b[39mto_csv(\u001b[39m'\u001b[39m\u001b[39mproduced_tables/graph_data/data.csv\u001b[39m\u001b[39m'\u001b[39m, sep\u001b[39m=\u001b[39m\u001b[39m'\u001b[39m\u001b[39m\\t\u001b[39;00m\u001b[39m'\u001b[39m, lineterminator\u001b[39m=\u001b[39m\u001b[39m'\u001b[39m\u001b[39m\\n\u001b[39;00m\u001b[39m'\u001b[39m, encoding\u001b[39m=\u001b[39m\u001b[39m'\u001b[39m\u001b[39mutf8\u001b[39m\u001b[39m'\u001b[39m, index\u001b[39m=\u001b[39m\u001b[39mFalse\u001b[39;00m)\n",
      "File \u001b[0;32m~/.local/lib/python3.10/site-packages/pandas/core/generic.py:1527\u001b[0m, in \u001b[0;36mNDFrame.__nonzero__\u001b[0;34m(self)\u001b[0m\n\u001b[1;32m   1525\u001b[0m \u001b[39m@final\u001b[39m\n\u001b[1;32m   1526\u001b[0m \u001b[39mdef\u001b[39;00m \u001b[39m__nonzero__\u001b[39m(\u001b[39mself\u001b[39m) \u001b[39m-\u001b[39m\u001b[39m>\u001b[39m NoReturn:\n\u001b[0;32m-> 1527\u001b[0m     \u001b[39mraise\u001b[39;00m \u001b[39mValueError\u001b[39;00m(\n\u001b[1;32m   1528\u001b[0m         \u001b[39mf\u001b[39m\u001b[39m\"\u001b[39m\u001b[39mThe truth value of a \u001b[39m\u001b[39m{\u001b[39;00m\u001b[39mtype\u001b[39m(\u001b[39mself\u001b[39m)\u001b[39m.\u001b[39m\u001b[39m__name__\u001b[39m\u001b[39m}\u001b[39;00m\u001b[39m is ambiguous. \u001b[39m\u001b[39m\"\u001b[39m\n\u001b[1;32m   1529\u001b[0m         \u001b[39m\"\u001b[39m\u001b[39mUse a.empty, a.bool(), a.item(), a.any() or a.all().\u001b[39m\u001b[39m\"\u001b[39m\n\u001b[1;32m   1530\u001b[0m     )\n",
      "\u001b[0;31mValueError\u001b[0m: The truth value of a Series is ambiguous. Use a.empty, a.bool(), a.item(), a.any() or a.all()."
     ]
    }
   ],
   "source": [
    "import pandas as pd\n",
    "import numpy as np\n",
    "pd.set_option('display.max_colwidth', None)\n",
    "\n",
    "df_rtr = pd.read_csv('produced_tables/rtr.csv', sep='\\t', lineterminator='\\n', encoding = 'utf8', dtype='unicode')\n",
    "df_mlt = pd.read_csv('produced_tables/multext.csv', sep='\\t', lineterminator='\\n', encoding = 'utf8', dtype='unicode')\n",
    "df_exact = pd.read_csv('produced_tables/stems/only_exact_extracted.csv', sep='\\t', lineterminator='\\n', encoding = 'utf8', dtype='unicode')\n",
    "\n",
    "def get_labels(col1_value, col2_value, label1, label2):\n",
    "\n",
    "    col1_phons = str(col1_value).split(';')\n",
    "    col2_phons = str(col2_value).split(';')\n",
    "    label1 = str(label1).split(';')\n",
    "    label2 = str(label2).split(';')\n",
    "\n",
    "    if(len(label1) == 1):\n",
    "        for i in range(1,len(col1_phons)):\n",
    "            label1.append(label1[0])\n",
    "    if(len(label2) == 1):\n",
    "        for i in range(1,len(col2_phons)):\n",
    "            label2.append(label2[0])\n",
    "\n",
    "    labels_list = []\n",
    "\n",
    "    count_1 = 0\n",
    "    count_2 = 0\n",
    "    for phons2 in col2_phons:\n",
    "        phons2 = phons2.split('|')\n",
    "        for phon2 in phons2:\n",
    "            for phons1 in col1_phons:\n",
    "                phons1 = phons1.split('|')\n",
    "                for phon1 in phons1:\n",
    "                    try:\n",
    "                        labels_list.append(label1[count_1] + '_' + label2[count_2])\n",
    "                    except IndexError:\n",
    "                        print (label1, count_1, label2, count_2 , col1_phons, col2_phons)\n",
    "                count_1 += 1\n",
    "        count_1 = 0\n",
    "        count_2 += 1\n",
    "    return ';'.join(labels_list)\n",
    "\n",
    "\n",
    "\n",
    "labels = ';'.join(df_mlt['Tag'].to_list())\n",
    "\n",
    "df_rtr['labels_1'] = df_rtr['cat_1']\n",
    "df_rtr['labels_2'] = df_rtr['cat_2']\n",
    "\n",
    "df_rtr['labels_1'] = df_rtr['labels_1'].apply(lambda x: labels if x == 'V' else x + ':')\n",
    "df_rtr['labels_2'] = df_rtr['labels_2'].apply(lambda x: labels if x == 'V' else x+ ':')\n",
    "\n",
    "exact_list = df_exact['rid'].to_list()\n",
    "\n",
    "df_rtr = df_rtr.loc[df_rtr['rid'].isin(exact_list)]\n",
    "\n",
    "#isplay(df_rtr)\n",
    "#df_rtr[['labels']] = df_rtr.apply(lambda row: pd.Series(get_labels(row['phon_stem_1'], row['phon_stem_2'], row['labels_1'], row['labels_2'])), axis=1)\n",
    "#df_rtr = df_rtr.drop(columns=['labels_1', 'labels_2'])\n",
    "\n",
    "df_rtr = df_rtr.drop(columns=['generalization2'])\n",
    "df_rtr = df_rtr.loc((df_rtr['generalization_1'] != 'X') & (df_rtr['generalization_2'] != 'X'))\n",
    "df_rtr = df_rtr.loc((df_rtr['generalization_1'] != 'X') & (df_rtr['generalization_2'] != 'Y'))\n",
    "df_rtr.to_csv('produced_tables/graph_data/data.csv', sep='\\t', lineterminator='\\n', encoding='utf8', index=False)\n",
    "\n",
    "display(df_rtr)\n",
    "display(df_rtr.loc[df_rtr['phon_stem_1'].str.contains('\\|')])\n",
    "\n"
   ]
  }
 ],
 "metadata": {
  "kernelspec": {
   "display_name": "Python 3",
   "language": "python",
   "name": "python3"
  },
  "language_info": {
   "codemirror_mode": {
    "name": "ipython",
    "version": 3
   },
   "file_extension": ".py",
   "mimetype": "text/x-python",
   "name": "python",
   "nbconvert_exporter": "python",
   "pygments_lexer": "ipython3",
   "version": "3.10.6"
  },
  "orig_nbformat": 4
 },
 "nbformat": 4,
 "nbformat_minor": 2
}
