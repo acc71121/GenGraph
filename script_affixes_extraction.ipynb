{
 "cells": [
  {
   "cell_type": "code",
   "execution_count": 26,
   "metadata": {},
   "outputs": [
    {
     "name": "stdout",
     "output_type": "stream",
     "text": [
      "518\n"
     ]
    }
   ],
   "source": [
    "import pandas as pd\n",
    "pd.set_option('display.max_colwidth', None)\n",
    "\n",
    "df_mlt = pd.read_csv('produced_tables/multext.csv', sep='\\t', lineterminator='\\n', encoding = 'utf8', dtype='unicode')\n",
    "df_rtl = pd.read_csv('produced_tables/rtl.csv', sep='\\t', lineterminator='\\n', encoding = 'utf8', dtype='unicode')\n",
    "df_rtr =  pd.read_csv('produced_tables/rtr.csv', sep='\\t', lineterminator='\\n', encoding = 'utf8', dtype='unicode')\n",
    "\n",
    "df_rtr = df_rtr.loc[(df_rtr['cstr_1'] != 'X')]\n",
    "unique_aff = df_rtr['cstr_1'].unique() \n",
    "\n",
    "print(len(unique_aff))\n",
    "\n",
    "phon = []\n",
    "cstr = []\n",
    "lid = []\n",
    "\n",
    "for af in unique_aff:\n",
    "\n",
    "    rt2 = df_rtr.loc[df_rtr['cstr_1'] == af].iloc[0][2]\n",
    "    ph = df_rtl.loc[df_rtl['lid'] == rt2].iloc[0][8].split(';')[0].split(':')[-1]\n",
    "    phon.append(ph)\n",
    "    cstr.append(af)\n",
    "    lid.append(rt2)\n",
    "\n",
    "\n",
    "new_dict = {'lid': lid, 'cstr': cstr, 'phon_affix': phon}\n",
    "aff_ph = pd.DataFrame(new_dict)\n",
    "\n",
    "aff_ph.to_csv('produced_tables/affixes/affixes_to_extract.csv', sep='\\t', lineterminator='\\n', encoding = 'utf8')"
   ]
  }
 ],
 "metadata": {
  "kernelspec": {
   "display_name": "Python 3",
   "language": "python",
   "name": "python3"
  },
  "language_info": {
   "codemirror_mode": {
    "name": "ipython",
    "version": 3
   },
   "file_extension": ".py",
   "mimetype": "text/x-python",
   "name": "python",
   "nbconvert_exporter": "python",
   "pygments_lexer": "ipython3",
   "version": "3.10.6"
  },
  "orig_nbformat": 4
 },
 "nbformat": 4,
 "nbformat_minor": 2
}
